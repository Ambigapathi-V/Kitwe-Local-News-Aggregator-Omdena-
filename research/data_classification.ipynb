{
 "cells": [
  {
   "cell_type": "code",
   "execution_count": 3,
   "metadata": {},
   "outputs": [],
   "source": [
    "import os"
   ]
  },
  {
   "cell_type": "code",
   "execution_count": 4,
   "metadata": {},
   "outputs": [
    {
     "data": {
      "text/plain": [
       "'c:\\\\Users\\\\ambig\\\\jupiter_notebook\\\\Projects\\\\Kitwe-Local-News-Aggregator-Omdena-\\\\research'"
      ]
     },
     "execution_count": 4,
     "metadata": {},
     "output_type": "execute_result"
    }
   ],
   "source": [
    "%pwd"
   ]
  },
  {
   "cell_type": "code",
   "execution_count": 5,
   "metadata": {},
   "outputs": [],
   "source": [
    "os.chdir(\"../\")"
   ]
  },
  {
   "cell_type": "code",
   "execution_count": 6,
   "metadata": {},
   "outputs": [
    {
     "data": {
      "text/plain": [
       "'c:\\\\Users\\\\ambig\\\\jupiter_notebook\\\\Projects\\\\Kitwe-Local-News-Aggregator-Omdena-'"
      ]
     },
     "execution_count": 6,
     "metadata": {},
     "output_type": "execute_result"
    }
   ],
   "source": [
    "%pwd"
   ]
  },
  {
   "cell_type": "code",
   "execution_count": 78,
   "metadata": {},
   "outputs": [],
   "source": [
    "from dataclasses import dataclass\n",
    "from typing import List\n",
    "from pathlib import Path\n",
    "from typing import Dict\n",
    "\n",
    "@dataclass\n",
    "class DataCategorizingConfig:\n",
    "    root_dir: Path\n",
    "    input_path: Path\n",
    "    output_path: Path\n",
    "    categories_keywords: Dict[str, List[str]]\n",
    "   "
   ]
  },
  {
   "cell_type": "code",
   "execution_count": 79,
   "metadata": {},
   "outputs": [],
   "source": [
    "from src.newsaggregator.constants import *\n",
    "from src.newsaggregator.utils.common import read_yaml , create_directories\n",
    "from src.newsaggregator import logger"
   ]
  },
  {
   "cell_type": "code",
   "execution_count": 80,
   "metadata": {},
   "outputs": [],
   "source": [
    "import pandas as pd\n",
    "import yaml\n",
    "from sklearn.feature_extraction.text import TfidfVectorizer\n",
    "from sklearn.neighbors import KNeighborsClassifier"
   ]
  },
  {
   "cell_type": "code",
   "execution_count": 81,
   "metadata": {},
   "outputs": [],
   "source": [
    "class ConfigurationManager:\n",
    "    def __init__(self,\n",
    "                 config_filepath=CONFIG_FILE_PATH,\n",
    "                 params_filepath=PARAMS_FILE_PATH,\n",
    "                 schema_filepath=SCHEMA_FILE_PATH):\n",
    "        self.config = read_yaml(config_filepath)\n",
    "        self.params = read_yaml(params_filepath)\n",
    "        self.schema = read_yaml(schema_filepath)\n",
    "        \n",
    "        logger.info(f\"Loaded configuration : {self.config} \")\n",
    "        \n",
    "        create_directories([self.config.artifacts_root])\n",
    "        \n",
    "    def get_data_labelling_config(self) -> DataCategorizingConfig:\n",
    "        config = self.config.data_categorizer\n",
    "        create_directories([config.root_dir])\n",
    "\n",
    "        # Access the categories_keywords dictionary directly\n",
    "        data_labelling_config = DataCategorizingConfig(\n",
    "            root_dir=Path(config['root_dir']), \n",
    "            input_path=Path(config['input_path']),  \n",
    "            output_path=Path(config['output_path']),\n",
    "            categories_keywords=config['categories_keywords']  # Ensure this is a dict\n",
    "        )\n",
    "        \n",
    "        return data_labelling_config  # Correct indentation\n"
   ]
  },
  {
   "cell_type": "code",
   "execution_count": 88,
   "metadata": {},
   "outputs": [],
   "source": [
    "class DataLabelling:\n",
    "    def __init__(self, config: DataCategorizingConfig):\n",
    "        self.input_path = config.input_path\n",
    "        self.output_path = config.output_path\n",
    "        self.categories_keywords = config.categories_keywords\n",
    "        \n",
    "        # Load data\n",
    "        self.data = self.load_data()\n",
    "        self.vectorizer = TfidfVectorizer(max_features=5000)\n",
    "        self.knn = KNeighborsClassifier(n_neighbors=5)\n",
    "\n",
    "    def load_data(self):\n",
    "        \"\"\"Load and process initial data.\"\"\"\n",
    "        self.data = pd.read_csv(self.input_path)\n",
    "        self.data['Description'] = self.data['Description'].astype(str)\n",
    "        return self.data\n",
    "\n",
    "    def prioritize_category(self, description):\n",
    "        \"\"\"Assign a single category based on highest keyword count.\"\"\"\n",
    "        keyword_count = {}\n",
    "        for category, keywords in self.categories_keywords.items():\n",
    "            count = sum(description.lower().count(keyword) for keyword in keywords)\n",
    "            if count > 0:\n",
    "                keyword_count[category] = count\n",
    "        return max(keyword_count, key=keyword_count.get) if keyword_count else 'Uncategorized'\n",
    "\n",
    "    def assign_single_categories(self):\n",
    "        \"\"\"Apply single category based on keyword prioritization.\"\"\"\n",
    "        if self.categories_keywords is None:\n",
    "            raise ValueError(\"categories_keywords is None. Ensure config.yaml is loaded correctly.\")\n",
    "\n",
    "        # Assign to 'categories' column\n",
    "        self.data['categories'] = self.data['Description'].apply(self.prioritize_category)\n",
    "        # Capitalize the first letter of categories\n",
    "        self.data['categories'] = self.data['categories'].str.capitalize()\n",
    "\n",
    "    def train_knn_classifier(self):\n",
    "        \"\"\"Train the KNN model to predict categories for uncategorized entries.\"\"\"\n",
    "        categorized_df = self.data[self.data['categories'] != 'Uncategorized']\n",
    "        uncategorized_df = self.data[self.data['categories'] == 'Uncategorized']\n",
    "        \n",
    "        # Ensure there is enough data to train\n",
    "        if categorized_df.empty:\n",
    "            raise ValueError(\"No categorized data available for training.\")\n",
    "\n",
    "        # Training data\n",
    "        X_train = categorized_df['Description']\n",
    "        y_train = categorized_df['categories']\n",
    "        \n",
    "        # Convert text to TF-IDF vectors\n",
    "        X_train_tfidf = self.vectorizer.fit_transform(X_train)\n",
    "        \n",
    "        # Train KNN classifier\n",
    "        self.knn.fit(X_train_tfidf, y_train)\n",
    "        \n",
    "        # Predict uncategorized entries\n",
    "        if not uncategorized_df.empty:\n",
    "            X_test_tfidf = self.vectorizer.transform(uncategorized_df['Description'])\n",
    "            y_pred = self.knn.predict(X_test_tfidf)\n",
    "            self.data.loc[self.data['categories'] == 'Uncategorized', 'categories'] = y_pred\n",
    "\n",
    "    def save_output(self):\n",
    "        \"\"\"Save the categorized DataFrame to the specified output path.\"\"\"\n",
    "        self.data.to_csv(self.output_path, index=False)\n",
    "\n",
    "    def get_categorized_data(self):\n",
    "        \"\"\"Return the categorized DataFrame.\"\"\"\n",
    "        return self.data\n",
    "\n",
    "    def categorize(self):\n",
    "        \"\"\"Run all categorization steps in sequence.\"\"\"\n",
    "        self.assign_single_categories()  # Ensure this is called first\n",
    "        self.train_knn_classifier()\n",
    "        self.save_output()\n",
    "        return self.get_categorized_data()\n"
   ]
  },
  {
   "cell_type": "code",
   "execution_count": 89,
   "metadata": {},
   "outputs": [
    {
     "name": "stdout",
     "output_type": "stream",
     "text": [
      "[2024-10-30 08:42:59,175: INFO: common: yaml file: config\\config.yaml loaded successfully]\n",
      "[2024-10-30 08:42:59,176: INFO: common: yaml file: params.yaml loaded successfully]\n",
      "[2024-10-30 08:42:59,179: INFO: common: yaml file: schema.yaml loaded successfully]\n",
      "[2024-10-30 08:42:59,181: INFO: 1361429372: Loaded configuration : {'artifacts_root': 'artifacts', 'data_ingestion': {'root_dir': 'artifacts/data_ingestion', 'News_websites': {'Copperbelt_Energy': 'https://cecinvestor.com/search/kitwe/feed/rss2/', 'ZNBC': 'https://znbc.co.zm/news/search/kitwe/feed/rss2/', 'News_Invasion_24': 'https://newsinvasion24.com/search/kitwe/feed/rss2/', 'Mwebantu': 'https://www.mwebantu.com/search/kitwe/feed/rss2/', 'Lusaka_Times': 'https://www.lusakatimes.com/search/kitwe/feed/rss2/', 'Kitwe_Online': 'https://kitweonline.com/search/kitwe/feed/rss2/', 'Daily_Revelation_Zambia': 'https://dailyrevelationzambia.com/search/kitwe/feed/rss2/', 'Zambia_Monitor': 'https://www.zambiamonitor.com/search/kitwe/feed/rss2/', 'Tech_Africa_News': 'https://www.techafricanews.com/search/kitwe/feed/rss2/', 'Zambian_Eye': 'https://zambianeye.com/search/kitwe/feed/rss2/', 'DailyMail': 'https://www.daily-mail.co.zm/search/kitwe/feed/rss2/'}, 'input_path': 'data\\x0cinal_data.csv', 'output_path': 'artifacts/data_ingestion/data/raw/News_Aggregator_Kitwe_Data_Collection.csv'}, 'data_cleaning': {'root_dir': 'artifacts/data_cleaning', 'input_path': 'artifacts/data_ingestion/data/raw/News_Aggregator_Kitwe_Data_Collection.csv', 'date_column': 'Date', 'text_columns': ['Source', 'Category', 'Headline', 'Description'], 'output_path': 'artifacts/data_cleaning/data/News_Aggregator_transformed.csv'}, 'data_categorizer': {'root_dir': 'artifacts/data_categorizer', 'input_path': 'data/News_Aggregator_Kitwe_Data_Collection.csv', 'output_path': 'artifacts/data_categorizer/News_Aggregator_labelled.csv', 'label_column': 'Category', 'categories_keywords': {'sports': ['football', 'soccer', 'basketball', 'tennis', 'cricket', 'olympics', 'athlete', 'sports'], 'politics': ['government', 'election', 'politician', 'policy', 'parliament', 'minister', 'president', 'vote'], 'education': ['school', 'university', 'education', 'college', 'students', 'learning', 'teacher', 'scholarship'], 'health_and_wellness': ['health', 'hospital', 'doctor', 'wellness', 'mental health', 'fitness', 'medicine', 'disease'], 'development': ['development', 'infrastructure', 'construction', 'road', 'bridge', 'building', 'urbanization'], 'narcotics': ['narcotics', 'drug', 'cocaine', 'heroin', 'meth', 'drug trafficking', 'illegal drugs'], 'fashion': ['fashion', 'clothing', 'designer', 'runway', 'model', 'style', 'apparel', 'trends'], 'career': ['job', 'career', 'employment', 'opportunity', 'work', 'recruitment', 'hiring', 'position'], 'local_news': ['local', 'community', 'city', 'town', 'village', 'municipality', 'neighborhood', 'region'], 'economy_news': ['economy', 'economic', 'finance', 'market', 'stocks', 'currency', 'inflation', 'gdp'], 'business_news': ['business', 'company', 'corporation', 'entrepreneur', 'startup', 'industry', 'investment', 'profit']}}} ]\n",
      "[2024-10-30 08:42:59,182: INFO: common: created directory at: artifacts]\n",
      "[2024-10-30 08:42:59,184: INFO: common: created directory at: artifacts/data_categorizer]\n"
     ]
    }
   ],
   "source": [
    "# Example usage\n",
    "if __name__ == \"__main__\":\n",
    "    config = ConfigurationManager()\n",
    "    data_labelling_config = config.get_data_labelling_config()\n",
    "    data_labelling = DataLabelling(data_labelling_config)\n",
    "    data_labelling.categorize()"
   ]
  },
  {
   "cell_type": "code",
   "execution_count": null,
   "metadata": {},
   "outputs": [],
   "source": []
  },
  {
   "cell_type": "code",
   "execution_count": null,
   "metadata": {},
   "outputs": [],
   "source": []
  },
  {
   "cell_type": "code",
   "execution_count": null,
   "metadata": {},
   "outputs": [],
   "source": []
  }
 ],
 "metadata": {
  "kernelspec": {
   "display_name": "venv",
   "language": "python",
   "name": "python3"
  },
  "language_info": {
   "codemirror_mode": {
    "name": "ipython",
    "version": 3
   },
   "file_extension": ".py",
   "mimetype": "text/x-python",
   "name": "python",
   "nbconvert_exporter": "python",
   "pygments_lexer": "ipython3",
   "version": "3.10.0"
  }
 },
 "nbformat": 4,
 "nbformat_minor": 2
}
